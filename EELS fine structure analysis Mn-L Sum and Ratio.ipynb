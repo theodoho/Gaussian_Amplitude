{
 "cells": [
  {
   "cell_type": "markdown",
   "metadata": {},
   "source": [
    "# Quantitative analysis of EELS finestructure"
   ]
  },
  {
   "cell_type": "code",
   "execution_count": 1,
   "metadata": {
    "collapsed": true
   },
   "outputs": [],
   "source": [
    "%matplotlib qt4"
   ]
  },
  {
   "cell_type": "code",
   "execution_count": 2,
   "metadata": {
    "collapsed": true
   },
   "outputs": [],
   "source": [
    "import matplotlib as mpl\n",
    "mpl.rcParams['image.cmap'] = 'viridis'"
   ]
  },
  {
   "cell_type": "code",
   "execution_count": 3,
   "metadata": {
    "collapsed": true
   },
   "outputs": [],
   "source": [
    "import hyperspy.api as hs\n",
    "import numpy as np"
   ]
  },
  {
   "cell_type": "markdown",
   "metadata": {},
   "source": [
    " Check that the Hartree-Slater determinants are loaded:\n",
    " EELS -> Model -> GOS directory. Then go to the  UNZIPPED FOLDER."
   ]
  },
  {
   "cell_type": "code",
   "execution_count": null,
   "metadata": {
    "collapsed": true
   },
   "outputs": [],
   "source": [
    "hs.preferences.gui()"
   ]
  },
  {
   "cell_type": "code",
   "execution_count": 66,
   "metadata": {
    "collapsed": true
   },
   "outputs": [],
   "source": [
    "s = hs.load(\"EELS Spectrum Image (high-loss) (aligned).dm3\")\n",
    "s_ll = hs.load(\"EELS Spectrum Image (low-loss) (aligned).dm3\")"
   ]
  },
  {
   "cell_type": "code",
   "execution_count": 67,
   "metadata": {
    "collapsed": true
   },
   "outputs": [],
   "source": [
    "#s.plot()"
   ]
  },
  {
   "cell_type": "code",
   "execution_count": 68,
   "metadata": {
    "collapsed": true
   },
   "outputs": [],
   "source": [
    "#s_ll.plot()"
   ]
  },
  {
   "cell_type": "markdown",
   "metadata": {},
   "source": [
    "Edge energy parameters. [Start background , end background , start edge, end edge]. Check this!"
   ]
  },
  {
   "cell_type": "code",
   "execution_count": 69,
   "metadata": {
    "collapsed": true
   },
   "outputs": [],
   "source": [
    "s_o_edge_E  = [503.,527.,517.,600.]\n",
    "s_mn_edge_E = [602.,632.,620.,702.]"
   ]
  },
  {
   "cell_type": "markdown",
   "metadata": {},
   "source": [
    "### Processing the data"
   ]
  },
  {
   "cell_type": "markdown",
   "metadata": {},
   "source": [
    "We fix the energy offset by using the `align_zero_loss_peak` method (PE already did this):"
   ]
  },
  {
   "cell_type": "code",
   "execution_count": 70,
   "metadata": {},
   "outputs": [
    {
     "name": "stdout",
     "output_type": "stream",
     "text": [
      "\n",
      "Initial ZLP position statistics\n",
      "-------------------------------\n",
      "Summary statistics\n",
      "------------------\n",
      "mean:\t-0.080\n",
      "std:\t0.000\n",
      "\n",
      "min:\t-0.080\n",
      "Q1:\t-0.080\n",
      "median:\t-0.080\n",
      "Q3:\t-0.080\n",
      "max:\t-0.080\n"
     ]
    },
    {
     "data": {
      "application/vnd.jupyter.widget-view+json": {
       "model_id": "c9c86372942c4cb390b7886495525be9"
      }
     },
     "metadata": {},
     "output_type": "display_data"
    },
    {
     "name": "stdout",
     "output_type": "stream",
     "text": [
      "\n"
     ]
    }
   ],
   "source": [
    "s_ll.align_zero_loss_peak(subpixel=True,calibrate=True,also_align=[s])"
   ]
  },
  {
   "cell_type": "code",
   "execution_count": 71,
   "metadata": {
    "collapsed": true
   },
   "outputs": [],
   "source": [
    "s.change_dtype(float)\n",
    "s_ll.change_dtype(float)"
   ]
  },
  {
   "cell_type": "markdown",
   "metadata": {},
   "source": [
    "Now we can extract the different EELS edges, to make it easier to visualize them. For this we use the `isig` method, which is used to slice the signal axes. (The `inav` method is used to slice in navigation axes.)"
   ]
  },
  {
   "cell_type": "code",
   "execution_count": 72,
   "metadata": {
    "collapsed": true
   },
   "outputs": [],
   "source": [
    "s_o = s.isig[s_o_edge_E[0]:s_o_edge_E[3]].deepcopy()\n",
    "s_mn = s.isig[s_mn_edge_E[0]:s_mn_edge_E[3]].deepcopy()"
   ]
  },
  {
   "cell_type": "markdown",
   "metadata": {},
   "source": [
    "Then remove the power law background using the `remove_background` method. The fitting range for the background can either by specified using a GUI, or the `signal_range` variable. `fast=False` is used to get a better fit, but might take longer time for large datasets."
   ]
  },
  {
   "cell_type": "code",
   "execution_count": 73,
   "metadata": {},
   "outputs": [
    {
     "data": {
      "application/vnd.jupyter.widget-view+json": {
       "model_id": "e56451ceac224e3da37a70359e290e53"
      }
     },
     "metadata": {},
     "output_type": "display_data"
    },
    {
     "data": {
      "application/vnd.jupyter.widget-view+json": {
       "model_id": "efbdbbca97d040d286ec3bb9dc10b572"
      }
     },
     "metadata": {},
     "output_type": "display_data"
    },
    {
     "data": {
      "application/vnd.jupyter.widget-view+json": {
       "model_id": "79808f01803a4e96a15dd041f28fbae2"
      }
     },
     "metadata": {},
     "output_type": "display_data"
    },
    {
     "data": {
      "application/vnd.jupyter.widget-view+json": {
       "model_id": "3947b2ded33a4be9b59e026c81b2b790"
      }
     },
     "metadata": {},
     "output_type": "display_data"
    }
   ],
   "source": [
    "s_o = s_o.remove_background(signal_range=(s_o_edge_E[0], s_o_edge_E[1]), fast = True)"
   ]
  },
  {
   "cell_type": "code",
   "execution_count": 74,
   "metadata": {},
   "outputs": [
    {
     "data": {
      "application/vnd.jupyter.widget-view+json": {
       "model_id": "d5dd3e236c304b3faae99990f0255ccd"
      }
     },
     "metadata": {},
     "output_type": "display_data"
    },
    {
     "data": {
      "application/vnd.jupyter.widget-view+json": {
       "model_id": "00cd14dd0a1e4c7bb980534e0d453b58"
      }
     },
     "metadata": {},
     "output_type": "display_data"
    },
    {
     "data": {
      "application/vnd.jupyter.widget-view+json": {
       "model_id": "c59fdd72e0b94de3ac56398d67ba4717"
      }
     },
     "metadata": {},
     "output_type": "display_data"
    },
    {
     "data": {
      "application/vnd.jupyter.widget-view+json": {
       "model_id": "9274b5f0ce784c3bb551161e8ddc94bd"
      }
     },
     "metadata": {},
     "output_type": "display_data"
    }
   ],
   "source": [
    "s_mn = s_mn.remove_background(signal_range=(s_mn_edge_E[0], s_mn_edge_E[1]), fast = True)"
   ]
  },
  {
   "cell_type": "markdown",
   "metadata": {},
   "source": [
    "Add the Hartree-Slater cross section for Manganese and Oxygen to the signal, so that the models can be created next."
   ]
  },
  {
   "cell_type": "code",
   "execution_count": 75,
   "metadata": {
    "collapsed": true
   },
   "outputs": [],
   "source": [
    "s_mn.add_elements(('Mn',))"
   ]
  },
  {
   "cell_type": "code",
   "execution_count": 76,
   "metadata": {
    "collapsed": true
   },
   "outputs": [],
   "source": [
    "s_o.add_elements(('O',))"
   ]
  },
  {
   "cell_type": "markdown",
   "metadata": {},
   "source": [
    "## Modelling the Mn-L$_{2,3}$ core loss edge"
   ]
  },
  {
   "cell_type": "markdown",
   "metadata": {},
   "source": [
    "Firstly, we need to make a model object from the core loss and low loss signals. The low loss is important for this, since it allows for the model to be convolved with low loss. This makes the fitting better, and automatically takes into account the effect of multiple scattering. The low loss is added by using the `ll` variable, and since we've already removed the power law background we use the `auto_background=False`.\n",
    "\n",
    "The low loss signal and the core loss signal must have the same navigation dimensions."
   ]
  },
  {
   "cell_type": "code",
   "execution_count": 78,
   "metadata": {
    "collapsed": true
   },
   "outputs": [],
   "source": [
    "s_mn.metadata.Signal.binned = False\n",
    "s_ll.metadata.Signal.binned = False\n",
    "\n",
    "m_mn = s_mn.create_model(ll=s_ll, auto_background=False)"
   ]
  },
  {
   "cell_type": "markdown",
   "metadata": {},
   "source": [
    "\n",
    "HyperSpy models work by containing one or several components. These components are then fitted to the experimental signal.\n",
    "\n",
    "Currently, the model contains two components for modelling the Mn-L$_{2,3}$ EELS edge, which can be accessed in:"
   ]
  },
  {
   "cell_type": "code",
   "execution_count": 79,
   "metadata": {},
   "outputs": [
    {
     "data": {
      "text/plain": [
       "   # |      Attribute Name |      Component Name |      Component Type\n",
       "---- | ------------------- | ------------------- | -------------------\n",
       "   0 |               Mn_L3 |               Mn_L3 |          EELSCLEdge\n",
       "   1 |               Mn_L2 |               Mn_L2 |          EELSCLEdge"
      ]
     },
     "execution_count": 79,
     "metadata": {},
     "output_type": "execute_result"
    }
   ],
   "source": [
    "m_mn.components"
   ]
  },
  {
   "cell_type": "markdown",
   "metadata": {},
   "source": [
    "We run the fitting process to get some reasonable initial positions"
   ]
  },
  {
   "cell_type": "code",
   "execution_count": 80,
   "metadata": {},
   "outputs": [
    {
     "data": {
      "application/vnd.jupyter.widget-view+json": {
       "model_id": "d1552a9d097f4c12a5ed9da211707a9e"
      }
     },
     "metadata": {},
     "output_type": "display_data"
    },
    {
     "name": "stdout",
     "output_type": "stream",
     "text": [
      "\n"
     ]
    }
   ],
   "source": [
    "m_mn.multifit()"
   ]
  },
  {
   "cell_type": "markdown",
   "metadata": {},
   "source": [
    "The `onset_energy` parameter can be changed interactively using `enable_adjust_position`. Move the onset to a little bit before the L$_3$ peak onset. (This can also be done by doing `m_mn.components.Mn_L3.onset_energy.value = 638`)"
   ]
  },
  {
   "cell_type": "code",
   "execution_count": 81,
   "metadata": {
    "collapsed": true
   },
   "outputs": [],
   "source": [
    "#m_mn.enable_adjust_position()"
   ]
  },
  {
   "cell_type": "code",
   "execution_count": 82,
   "metadata": {
    "collapsed": true
   },
   "outputs": [],
   "source": [
    "m_mn.components.Mn_L3.onset_energy.value = 638"
   ]
  },
  {
   "cell_type": "markdown",
   "metadata": {},
   "source": [
    "This only sets the value temporarily for this one specific position. The `assign_current_value_to_all` method is used to make it permanent for all the positions"
   ]
  },
  {
   "cell_type": "code",
   "execution_count": 83,
   "metadata": {
    "collapsed": true
   },
   "outputs": [],
   "source": [
    "m_mn.components.Mn_L3.onset_energy.assign_current_value_to_all()"
   ]
  },
  {
   "cell_type": "markdown",
   "metadata": {},
   "source": [
    "The `onset_energy` parameter can be changed interactively using `enable_adjust_position`. Move the onset to a little bit before the L$_2$ peak onset. (This can also be done by doing `m_mn.components.Mn_L2.onset_energy.value = 649.0`)"
   ]
  },
  {
   "cell_type": "code",
   "execution_count": 84,
   "metadata": {
    "collapsed": true
   },
   "outputs": [],
   "source": [
    "#m_mn.components.Mn_L2.onset_energy.value = 649"
   ]
  },
  {
   "cell_type": "code",
   "execution_count": 85,
   "metadata": {
    "collapsed": true
   },
   "outputs": [],
   "source": [
    "m_mn.components.Mn_L2.onset_energy.assign_current_value_to_all()"
   ]
  },
  {
   "cell_type": "markdown",
   "metadata": {},
   "source": [
    "The next step is making the fitting function ignore the intense L$_3$ and L$_2$ peaks, which we'll fit later using Gaussians. The regions used for the fitting can be specified interactively using `m_mn.set_signal_range()`. Set the signal range between 603 and 636 eV."
   ]
  },
  {
   "cell_type": "code",
   "execution_count": 87,
   "metadata": {
    "collapsed": true
   },
   "outputs": [],
   "source": [
    "m_mn.set_signal_range(603, 636)"
   ]
  },
  {
   "cell_type": "markdown",
   "metadata": {},
   "source": [
    "The use `add_signal_range` to add a second signal range at the lowest point in the edge background (659 to 693 eV)"
   ]
  },
  {
   "cell_type": "code",
   "execution_count": 88,
   "metadata": {
    "collapsed": true
   },
   "outputs": [],
   "source": [
    "m_mn.add_signal_range(659,693)"
   ]
  },
  {
   "cell_type": "markdown",
   "metadata": {},
   "source": [
    "Now, the fitting algorithm will only fit the model to the regins we just specified"
   ]
  },
  {
   "cell_type": "code",
   "execution_count": 89,
   "metadata": {
    "scrolled": true
   },
   "outputs": [
    {
     "data": {
      "application/vnd.jupyter.widget-view+json": {
       "model_id": "6946465b045b47aab9bfbe015c48556a"
      }
     },
     "metadata": {},
     "output_type": "display_data"
    },
    {
     "name": "stdout",
     "output_type": "stream",
     "text": [
      "\n"
     ]
    }
   ],
   "source": [
    "m_mn.multifit()"
   ]
  },
  {
   "cell_type": "markdown",
   "metadata": {},
   "source": [
    "First we reset the signal range, so we can see the whole model."
   ]
  },
  {
   "cell_type": "code",
   "execution_count": 90,
   "metadata": {
    "collapsed": true
   },
   "outputs": [],
   "source": [
    "m_mn.reset_the_signal_range()"
   ]
  },
  {
   "cell_type": "markdown",
   "metadata": {},
   "source": [
    "Now the the edge background looks much better"
   ]
  },
  {
   "cell_type": "code",
   "execution_count": 91,
   "metadata": {
    "collapsed": true
   },
   "outputs": [],
   "source": [
    "m_mn.plot()"
   ]
  },
  {
   "cell_type": "markdown",
   "metadata": {},
   "source": [
    "We can now lock the EELSCLEdge component"
   ]
  },
  {
   "cell_type": "code",
   "execution_count": 92,
   "metadata": {
    "collapsed": true
   },
   "outputs": [],
   "source": [
    "m_mn.components.Mn_L2.set_parameters_not_free()\n",
    "m_mn.components.Mn_L3.set_parameters_not_free()"
   ]
  },
  {
   "cell_type": "markdown",
   "metadata": {},
   "source": [
    "This means the component will not change when fitting"
   ]
  },
  {
   "cell_type": "markdown",
   "metadata": {},
   "source": [
    "### Adding the Gaussians"
   ]
  },
  {
   "cell_type": "markdown",
   "metadata": {},
   "source": [
    "First we need to make two Gaussian components"
   ]
  },
  {
   "cell_type": "code",
   "execution_count": 93,
   "metadata": {
    "collapsed": true
   },
   "outputs": [],
   "source": [
    "g1 = hs.model.components1D.Gaussian()\n",
    "g2 = hs.model.components1D.Gaussian()"
   ]
  },
  {
   "cell_type": "markdown",
   "metadata": {},
   "source": [
    "These are added to the model using `append` (just like a standard Python list)"
   ]
  },
  {
   "cell_type": "code",
   "execution_count": 94,
   "metadata": {
    "collapsed": true
   },
   "outputs": [],
   "source": [
    "m_mn.append(g1)\n",
    "m_mn.append(g2)"
   ]
  },
  {
   "cell_type": "code",
   "execution_count": 95,
   "metadata": {},
   "outputs": [
    {
     "data": {
      "text/plain": [
       "   # |      Attribute Name |      Component Name |      Component Type\n",
       "---- | ------------------- | ------------------- | -------------------\n",
       "   0 |               Mn_L3 |               Mn_L3 |          EELSCLEdge\n",
       "   1 |               Mn_L2 |               Mn_L2 |          EELSCLEdge\n",
       "   2 |            Gaussian |            Gaussian |            Gaussian\n",
       "   3 |          Gaussian_0 |          Gaussian_0 |            Gaussian"
      ]
     },
     "execution_count": 95,
     "metadata": {},
     "output_type": "execute_result"
    }
   ],
   "source": [
    "m_mn.components"
   ]
  },
  {
   "cell_type": "markdown",
   "metadata": {},
   "source": [
    "Before trying to fit them to the signal, we should give them some reasonable initial values. This can be done manually, or more easily using the `fit_component` method. It works by locking all other components, and only fitting the specified component across the range which is selected.\n",
    "\n",
    "Drag the span across the L$_3$ (leftmost peak, 637.45 to 648.32 eV), untick `only_current`, and press fit."
   ]
  },
  {
   "cell_type": "code",
   "execution_count": 96,
   "metadata": {
    "collapsed": true
   },
   "outputs": [],
   "source": [
    "m_mn.fit_component(g1, signal_range=(637.45, 648.32), only_current = False)"
   ]
  },
  {
   "cell_type": "markdown",
   "metadata": {},
   "source": [
    "Repeat this for the g2 component, but now for the L$_2$ peak. Drag the span from 649 to 657 eV, untick only_current, then hit fit."
   ]
  },
  {
   "cell_type": "code",
   "execution_count": 97,
   "metadata": {
    "collapsed": true
   },
   "outputs": [],
   "source": [
    "m_mn.fit_component(g2,signal_range=(649, 657), only_current = False)"
   ]
  },
  {
   "cell_type": "markdown",
   "metadata": {},
   "source": [
    "Now that the two Gaussian components have some reasonable initial values, we can try fitting both of them at the same time. But first we want to change the signal range so it does not contain all of the edge background. Use `set_signal_range` to set the fitting range from 635 to 661 eV."
   ]
  },
  {
   "cell_type": "code",
   "execution_count": 98,
   "metadata": {
    "collapsed": true
   },
   "outputs": [],
   "source": [
    "m_mn.set_signal_range(635,661)"
   ]
  },
  {
   "cell_type": "markdown",
   "metadata": {},
   "source": [
    "The fitting is better, but not perfect. One issue is the intensity in the edge background \"behind\" the two main peaks is not very good at the moment. This is due to the plural scattering from the Gaussians now contributing intensity.\n",
    "\n",
    "This is solved by letting the intensity parameter for the EELSCLEdge component be free."
   ]
  },
  {
   "cell_type": "code",
   "execution_count": 99,
   "metadata": {
    "collapsed": true
   },
   "outputs": [],
   "source": [
    "m_mn.components.Mn_L3.intensity.free = True"
   ]
  },
  {
   "cell_type": "code",
   "execution_count": 100,
   "metadata": {},
   "outputs": [
    {
     "data": {
      "application/vnd.jupyter.widget-view+json": {
       "model_id": "25a9e82cd3914331b2796fd8cf13e93d"
      }
     },
     "metadata": {},
     "output_type": "display_data"
    },
    {
     "name": "stdout",
     "output_type": "stream",
     "text": [
      "\n"
     ]
    }
   ],
   "source": [
    "m_mn.multifit()"
   ]
  },
  {
   "cell_type": "code",
   "execution_count": 101,
   "metadata": {
    "collapsed": true
   },
   "outputs": [],
   "source": [
    "m_mn.reset_signal_range()"
   ]
  },
  {
   "cell_type": "markdown",
   "metadata": {},
   "source": [
    "Now the EELSCLEdge fits better"
   ]
  },
  {
   "cell_type": "code",
   "execution_count": 112,
   "metadata": {},
   "outputs": [
    {
     "data": {
      "text/plain": [
       "(0, 0.9)"
      ]
     },
     "execution_count": 112,
     "metadata": {},
     "output_type": "execute_result"
    }
   ],
   "source": [
    "m_mn[0].fine_structure_width = 80\n",
    "m_mn[1].fine_structure_width = 80\n",
    "\n",
    "a = np.absolute(m_mn[2].A.as_signal())\n",
    "b = np.absolute(m_mn[3].A.as_signal())\n",
    "\n",
    "sigma_L3_integrated = np.absolute(m_mn[0].get_fine_structure_as_signal1D().sum(-1)).transpose()\n",
    "sigma_L2_integrated = np.absolute(m_mn[1].get_fine_structure_as_signal1D().sum(-1)).transpose()\n",
    "\n",
    "lambda_2 = np.absolute(m_mn[0].intensity.as_signal())\n",
    "\n",
    "s_L32_sum = (a+b)/(lambda_2*(sigma_L2_integrated+sigma_L3_integrated))\n",
    "s_L32_sum.metadata.General.title = 'I_L3 + I_L2'\n",
    "\n",
    "s_L32_sum_av2 = []\n",
    "s_L32_sum_s2 = []\n",
    "\n",
    "s_L32_sum_av2.append(s_L32_sum.isig[0.300:0.600].mean(0))\n",
    "s_L32_sum_s2.append(s_L32_sum.isig[0.300:0.600].std(0)/np.sqrt(len(s_L32_sum.isig[0.300:0.600].data)))\n",
    "\n",
    "s_L32_sum_av2.append(s_L32_sum.isig[0.600:0.900].mean(0))\n",
    "s_L32_sum_s2.append(s_L32_sum.isig[0.600:0.900].std(0)/np.sqrt(len(s_L32_sum.isig[0.600:0.900].data)))\n",
    "\n",
    "s_L32_sum_av2.append(s_L32_sum.isig[0.0:0.300].mean(0))\n",
    "s_L32_sum_s2.append(s_L32_sum.isig[0.0:0.300].std(0)/np.sqrt(len(s_L32_sum.isig[0.0:0.300].data)))\n",
    "\n",
    "means2 = [s_L32_sum_av2[0].data[0], s_L32_sum_av2[1].data[0], s_L32_sum_av2[2].data[0]]\n",
    "errors2 = [s_L32_sum_s2[0].data[0], s_L32_sum_s2[1].data[0], s_L32_sum_s2[2].data[0]]\n",
    "\n",
    "\n",
    "mpl.pyplot.errorbar([0.450], means2[0], xerr=0.150, yerr=0, fmt='o', \n",
    "                    ecolor='b', mfc = 'g', capthick=2,capsize=10, elinewidth=5)\n",
    "\n",
    "mpl.pyplot.errorbar([0.450], means2[0], xerr=0, yerr=errors2[0], fmt='o', \n",
    "                    ecolor='r', mfc = 'g', capthick=2,capsize=10, elinewidth=5)\n",
    "\n",
    "\n",
    "mpl.pyplot.errorbar([0.750], means2[1], xerr=0.150, yerr=0, fmt='o', \n",
    "                    ecolor='b', mfc = 'g', capthick=2,capsize=10, elinewidth=5)\n",
    "\n",
    "mpl.pyplot.errorbar([0.750], means2[1], xerr=0, yerr=errors2[1], fmt='o', \n",
    "                    ecolor='r', mfc = 'g', capthick=2,capsize=10, elinewidth=5)\n",
    "\n",
    "mpl.pyplot.errorbar([0.150], means2[2], xerr=0.150, yerr=0, fmt='o', \n",
    "                    ecolor='b', mfc = 'g', capthick=2,capsize=10, elinewidth=5)\n",
    "\n",
    "mpl.pyplot.errorbar([0.150], means2[2], xerr=0, yerr=errors2[0], fmt='o', \n",
    "                    ecolor='r', mfc = 'g', capthick=2,capsize=10, elinewidth=5)\n",
    "\n",
    "\n",
    "mpl.pyplot.axvline(x=0.3, linewidth=4, color='g', linestyle='dashed')\n",
    "mpl.pyplot.axvline(x=0.6, linewidth=4, color='g', linestyle='dashed')\n",
    "\n",
    "mpl.pyplot.xticks([0, 0.1, 0.2, 0.3, 0.4, 0.5, 0.6, 0.7, 0.8, 0.9])\n",
    "mpl.pyplot.title('Gaussian fit, $L_3+L_2$ Normalized Amplitude, Averaged with SE')\n",
    "mpl.pyplot.xlabel('$\\mu$m')\n",
    "mpl.pyplot.ylabel('$L_3+L_2$')\n",
    "mpl.rcParams.update({'font.size': 30})\n",
    "mpl.pyplot.xlim([0, 0.9])"
   ]
  },
  {
   "cell_type": "code",
   "execution_count": 111,
   "metadata": {},
   "outputs": [
    {
     "data": {
      "text/plain": [
       "(0, 0.942)"
      ]
     },
     "execution_count": 111,
     "metadata": {},
     "output_type": "execute_result"
    }
   ],
   "source": [
    "a = np.absolute(m_mn[2].A.as_signal())\n",
    "b = np.absolute(m_mn[3].A.as_signal())\n",
    "\n",
    "s_L32_ratio = np.absolute(a)/np.absolute(b)\n",
    "s_L32_ratio.metadata.General.title = 'I_L3/I_L2'\n",
    "\n",
    "s_L32_ratio_av2 = []\n",
    "s_L32_ratio_s2 = []\n",
    "\n",
    "\n",
    "s_L32_ratio_av2.append(s_L32_ratio.isig[0.450:0.650].mean(0))\n",
    "s_L32_ratio_s2.append(s_L32_ratio.isig[0.450:0.650].std(0)/np.sqrt(len(s_L32_ratio.isig[0.450:0.650].data)))\n",
    "\n",
    "s_L32_ratio_av2.append(s_L32_ratio.isig[0.640:0.940].mean(0))\n",
    "s_L32_ratio_s2.append(s_L32_ratio.isig[0.640:0.940].std(0)/np.sqrt(len(s_L32_ratio.isig[0.640:0.940].data)))\n",
    "\n",
    "s_L32_ratio_av2.append(s_L32_ratio.isig[0.0:0.300].mean(0))\n",
    "s_L32_ratio_s2.append(s_L32_ratio.isig[0.0:0.300].std(0)/np.sqrt(len(s_L32_ratio.isig[0.0:0.300].data)))\n",
    "\n",
    "means2 = [s_L32_ratio_av2[0].data[0], s_L32_ratio_av2[1].data[0], s_L32_ratio_av2[2].data[0]]\n",
    "errors2 = [s_L32_ratio_s2[0].data[0], s_L32_ratio_s2[1].data[0], s_L32_ratio_s2[2].data[0]]\n",
    "\n",
    "\n",
    "mpl.pyplot.errorbar([0.550], means2[0], xerr=0.100, yerr=0, fmt='o', \n",
    "                    ecolor='b', mfc = 'g', capthick=2,capsize=10, elinewidth=5)\n",
    "\n",
    "mpl.pyplot.errorbar([0.550], means2[0], xerr=0, yerr=errors2[0], fmt='o', \n",
    "                    ecolor='r', mfc = 'g', capthick=2,capsize=10, elinewidth=5)\n",
    "\n",
    "mpl.pyplot.errorbar([0.790], means2[1], xerr=0.150, yerr=0, fmt='o', \n",
    "                    ecolor='b', mfc = 'g', capthick=2,capsize=10, elinewidth=5)\n",
    "\n",
    "mpl.pyplot.errorbar([0.790], means2[1], xerr=0, yerr=errors2[1], fmt='o', \n",
    "                    ecolor='r', mfc = 'g', capthick=2,capsize=10, elinewidth=5)\n",
    "\n",
    "mpl.pyplot.errorbar([0.150], means2[2], xerr=0.150, yerr=0, fmt='o', \n",
    "                    ecolor='b', mfc = 'g', capthick=2,capsize=10, elinewidth=5)\n",
    "\n",
    "mpl.pyplot.errorbar([0.150], means2[2], xerr=0, yerr=errors2[0], fmt='o', \n",
    "                    ecolor='r', mfc = 'g', capthick=2,capsize=10, elinewidth=5)\n",
    "\n",
    "\n",
    "mpl.pyplot.xticks([0, 0.1, 0.2, 0.3, 0.4, 0.5, 0.6, 0.7, 0.8, 0.9])\n",
    "mpl.pyplot.title('Gaussian fit, $L_3/L_2$ Amplitude Ratio, Averaged with SE')\n",
    "mpl.pyplot.xlabel('$\\mu$m')\n",
    "mpl.pyplot.ylabel('$L_3/L_2$')\n",
    "mpl.rcParams.update({'font.size': 30})\n",
    "mpl.pyplot.xlim([0, 0.942])"
   ]
  },
  {
   "cell_type": "code",
   "execution_count": 104,
   "metadata": {
    "collapsed": true
   },
   "outputs": [],
   "source": [
    "m_mn[0].get_fine_structure_as_signal1D().plot()"
   ]
  },
  {
   "cell_type": "code",
   "execution_count": 105,
   "metadata": {
    "collapsed": true
   },
   "outputs": [],
   "source": [
    "m_mn.plot()"
   ]
  },
  {
   "cell_type": "code",
   "execution_count": 106,
   "metadata": {},
   "outputs": [
    {
     "name": "stdout",
     "output_type": "stream",
     "text": [
      "Components\tParameter\tValue\n",
      "Mn_L3\n",
      "\t\tintensity\t6.8657e-05\n",
      "Mn_L2\n",
      "Gaussian\n",
      "\t\tA\t0.152032\n",
      "\t\tcentre\t641.778\n",
      "\t\tsigma\t1.43289\n",
      "Gaussian_0\n",
      "\t\tA\t0.0652113\n",
      "\t\tcentre\t652.631\n",
      "\t\tsigma\t1.46371\n"
     ]
    }
   ],
   "source": [
    "m_mn.print_current_values()"
   ]
  },
  {
   "cell_type": "code",
   "execution_count": 107,
   "metadata": {},
   "outputs": [
    {
     "data": {
      "text/plain": [
       "├── Acquisition_instrument\n",
       "│   └── TEM\n",
       "│       ├── Detector\n",
       "│       │   └── EELS\n",
       "│       │       ├── aperture_size = 5.0\n",
       "│       │       ├── collection_angle = 66.9000015258789\n",
       "│       │       ├── frame_number = 1\n",
       "│       │       └── spectrometer = GIF Quantum ER\n",
       "│       ├── acquisition_mode = STEM\n",
       "│       ├── beam_current = 0.0\n",
       "│       ├── beam_energy = 200.0\n",
       "│       ├── camera_length = 15.0\n",
       "│       ├── convergence_angle = 27.0\n",
       "│       ├── magnification = 200000.0\n",
       "│       └── microscope = JEM-ARM200F\n",
       "├── General\n",
       "│   ├── original_filename = EELS Spectrum Image (high-loss) (aligned).dm3\n",
       "│   └── title = EELS Spectrum Image (high-loss) (aligned)\n",
       "├── Sample\n",
       "│   ├── description = DWNC\n",
       "│   └── elements = ['Mn']\n",
       "└── Signal\n",
       "    ├── binned = False\n",
       "    ├── quantity = Intensity (Counts)\n",
       "    └── signal_type = EELS"
      ]
     },
     "execution_count": 107,
     "metadata": {},
     "output_type": "execute_result"
    }
   ],
   "source": [
    "s_mn.metadata"
   ]
  },
  {
   "cell_type": "markdown",
   "metadata": {},
   "source": [
    "If I do a test, I get the correct amplitude in my model. Hence, it is very strange that it gives the wrong amplitude above."
   ]
  },
  {
   "cell_type": "code",
   "execution_count": 108,
   "metadata": {},
   "outputs": [
    {
     "data": {
      "application/vnd.jupyter.widget-view+json": {
       "model_id": "72f0b83deb53420dbe33e211816995fd"
      }
     },
     "metadata": {},
     "output_type": "display_data"
    },
    {
     "data": {
      "application/vnd.jupyter.widget-view+json": {
       "model_id": "278af434dd6642d99f35375bb2d618a0"
      }
     },
     "metadata": {},
     "output_type": "display_data"
    },
    {
     "name": "stdout",
     "output_type": "stream",
     "text": [
      "\n"
     ]
    }
   ],
   "source": [
    "g1 = hs.model.components1D.Gaussian(A=25.0, sigma=4.0, centre=2.0)\n",
    "x = np.arange(-20, 20, 0.01)\n",
    "data = np.zeros((5,5,4000))\n",
    "data[:] = g1.function(x).reshape((1,1,4000))\n",
    "s = hs.signals.Signal1D(data)\n",
    "\n",
    "s.axes_manager._axes[-1].offset = -20\n",
    "s.axes_manager._axes[-1].scale = 0.01\n",
    "#s.plot()\n",
    "\n",
    "g2 = hs.model.components1D.Gaussian()\n",
    "m = s.create_model()\n",
    "m.append(g2)\n",
    "m.fit_component(g2)\n",
    "m.multifit()"
   ]
  },
  {
   "cell_type": "code",
   "execution_count": 109,
   "metadata": {},
   "outputs": [
    {
     "name": "stdout",
     "output_type": "stream",
     "text": [
      "Components\tParameter\tValue\n",
      "Gaussian\n",
      "\t\tA\t25\n",
      "\t\tcentre\t2\n",
      "\t\tsigma\t4\n"
     ]
    }
   ],
   "source": [
    "m.print_current_values()"
   ]
  }
 ],
 "metadata": {
  "anaconda-cloud": {},
  "kernelspec": {
   "display_name": "Python 3",
   "language": "python",
   "name": "python3"
  },
  "language_info": {
   "codemirror_mode": {
    "name": "ipython",
    "version": 3
   },
   "file_extension": ".py",
   "mimetype": "text/x-python",
   "name": "python",
   "nbconvert_exporter": "python",
   "pygments_lexer": "ipython3",
   "version": "3.5.1"
  },
  "widgets": {
   "state": {
    "0a23db4d5ee1462c9b38b94a99608d95": {
     "views": [
      {
       "cell_index": 71
      }
     ]
    },
    "1851653abd274fd0b9c77cace1fc201d": {
     "views": [
      {
       "cell_index": 132
      }
     ]
    },
    "18d3740f74e34604a08a819d5292eaf2": {
     "views": [
      {
       "cell_index": 142
      }
     ]
    },
    "1a603fee11a24105a7c31179e402c786": {
     "views": [
      {
       "cell_index": 73
      }
     ]
    },
    "21cb8ebd226440ef81ceb38df3cd5a4f": {
     "views": [
      {
       "cell_index": 15
      }
     ]
    },
    "26493afc6a1045178d192dd22e5e6884": {
     "views": [
      {
       "cell_index": 136
      }
     ]
    },
    "2e00fce72c6a4cb099e7c150f51dc17e": {
     "views": [
      {
       "cell_index": 101
      }
     ]
    },
    "3743781340f24b2cb747d335cb693699": {
     "views": [
      {
       "cell_index": 15
      }
     ]
    },
    "49b1162325224349885ed0f716179c07": {
     "views": [
      {
       "cell_index": 19
      }
     ]
    },
    "4daaf319112c439bace3ed2b7f33f646": {
     "views": [
      {
       "cell_index": 73
      }
     ]
    },
    "59d338145c10451ca23f1d113430ef10": {
     "views": [
      {
       "cell_index": 80
      }
     ]
    },
    "5c27369e3fcd4a28baf394106ac5fa3a": {
     "views": [
      {
       "cell_index": 15
      }
     ]
    },
    "6a17a64dd762477780a35fe37663d880": {
     "views": [
      {
       "cell_index": 136
      }
     ]
    },
    "6b7684b703634b82978f90d9cd44305e": {
     "views": [
      {
       "cell_index": 136
      }
     ]
    },
    "6c2231b0c8cd4f4fb672e0910aadad18": {
     "views": [
      {
       "cell_index": 130
      }
     ]
    },
    "6d0d4355b86248bb96c521c42d7d11b0": {
     "views": [
      {
       "cell_index": 19
      }
     ]
    },
    "739481df8b64478c835ed4f09ed13056": {
     "views": [
      {
       "cell_index": 76
      }
     ]
    },
    "7ee8b3c7f074469a8daec7e08526b475": {
     "views": [
      {
       "cell_index": 19
      }
     ]
    },
    "7f6ecd9f378c413eaf67c33eb4d3a74c": {
     "views": [
      {
       "cell_index": 56
      }
     ]
    },
    "8e69f037d57c43d0b1a1f7805ec23bb2": {
     "views": [
      {
       "cell_index": 136
      }
     ]
    },
    "9c9fa9e8b51d4de88e776e6aee34608b": {
     "views": [
      {
       "cell_index": 77
      }
     ]
    },
    "a37760447ee44ce183561b2d81ceb68d": {
     "views": [
      {
       "cell_index": 130
      }
     ]
    },
    "a5c133d0478848fdbe309a8fa7755583": {
     "views": [
      {
       "cell_index": 115
      }
     ]
    },
    "ad30b13f7eb14ed79dd9314b5ed01560": {
     "views": [
      {
       "cell_index": 71
      }
     ]
    },
    "aecdfbed203b4f84a9c6edd492adcc33": {
     "views": [
      {
       "cell_index": 42
      }
     ]
    },
    "cde07277df7d4dd28021014aa1aaf79f": {
     "views": [
      {
       "cell_index": 134
      }
     ]
    },
    "da8d9d97976d4cc28743ec5da7125ffa": {
     "views": [
      {
       "cell_index": 136
      }
     ]
    },
    "dd2161a7512f4016bf85156169ba59a6": {
     "views": [
      {
       "cell_index": 132
      }
     ]
    },
    "e421c263383141a48a5e2334637491fd": {
     "views": [
      {
       "cell_index": 19
      }
     ]
    },
    "ee0ed0f5b56a487b8132c735f0dc1121": {
     "views": [
      {
       "cell_index": 132
      }
     ]
    },
    "f036631b52174c35bd1082c0736431ee": {
     "views": [
      {
       "cell_index": 136
      }
     ]
    },
    "f54c9e9626f24fe2b1de2c1ce1916f4b": {
     "views": [
      {
       "cell_index": 130
      }
     ]
    },
    "f67c99ff25614482ad926bd700140a0e": {
     "views": [
      {
       "cell_index": 19
      }
     ]
    }
   },
   "version": "1.2.0"
  }
 },
 "nbformat": 4,
 "nbformat_minor": 1
}
